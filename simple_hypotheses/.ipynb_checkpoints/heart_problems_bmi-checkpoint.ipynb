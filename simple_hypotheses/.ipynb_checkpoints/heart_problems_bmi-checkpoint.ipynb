{
 "cells": [
  {
   "cell_type": "code",
   "execution_count": 16,
   "metadata": {
    "collapsed": true
   },
   "outputs": [
    {
     "data": {
      "text/plain": "     развитие_опп  хбп  возраст  пол  гб  сахарный_диабет  стенокардия  \\\n0               0    1       67    1   1                1            1   \n3               0    1       62    1   1                0            1   \n4               1    1       55    1   1                1            1   \n5               0    0       60    1   1                0            1   \n8               0    1       60    1   1                0            1   \n..            ...  ...      ...  ...  ..              ...          ...   \n194             0    0       47    1   1                0            1   \n196             1    1       68    1   1                0            1   \n197             1    1       72    1   1                0            1   \n198             0    1       71    0   1                0            1   \n199             0    1       71    1   1                1            1   \n\n     инфаркт_миокарда  мерцательная_аритмия  желудочковая_экстрасистолия  ...  \\\n0                   1                     0                            0  ...   \n3                   1                     1                            0  ...   \n4                   1                     0                            0  ...   \n5                   1                     0                            1  ...   \n8                   0                     0                            0  ...   \n..                ...                   ...                          ...  ...   \n194                 0                     0                            0  ...   \n196                 0                     1                            0  ...   \n197                 1                     0                            0  ...   \n198                 1                     0                            0  ...   \n199                 0                     0                            0  ...   \n\n     количество_шунтов  длительность_операции  длительность_аик  \\\n0                    1                    150                 0   \n3                    3                    210                71   \n4                    3                    265               116   \n5                    3                    240                74   \n8                    3                    299               122   \n..                 ...                    ...               ...   \n194                  3                    290                98   \n196                  2                    220                 0   \n197                  4                    270                88   \n198                  3                    280                73   \n199                  3                    350                 0   \n\n     время_пережатия_аорты  объем_кровопотерии  объем_гемотрансфузии  \\\n0                        0                 200                   830   \n3                       43                 500                  1283   \n4                       74                 500                  1560   \n5                       62                 200                  1350   \n8                       75                 500                   600   \n..                     ...                 ...                   ...   \n194                     55                 250                  1094   \n196                      0                 150                     0   \n197                     70                 500                  1379   \n198                     61                 200                  2360   \n199                      0                 250                     0   \n\n     объем_инфузий  диурез  переливание_крови_и_аик  \\\n0             2900     900                        0   \n3             1700    1700                        1   \n4             1800    1300                        0   \n5             2100    1800                        0   \n8             1050    4000                        0   \n..             ...     ...                      ...   \n194           1200    2000                        0   \n196           1400    2000                        0   \n197           1300    2300                        1   \n198            900    2000                        0   \n199           3400    1000                        0   \n\n     есть_хроническое_заболевание  \n0                               1  \n3                               1  \n4                               1  \n5                               1  \n8                               1  \n..                            ...  \n194                             1  \n196                             1  \n197                             1  \n198                             1  \n199                             1  \n\n[157 rows x 69 columns]",
      "text/html": "<div>\n<style scoped>\n    .dataframe tbody tr th:only-of-type {\n        vertical-align: middle;\n    }\n\n    .dataframe tbody tr th {\n        vertical-align: top;\n    }\n\n    .dataframe thead th {\n        text-align: right;\n    }\n</style>\n<table border=\"1\" class=\"dataframe\">\n  <thead>\n    <tr style=\"text-align: right;\">\n      <th></th>\n      <th>развитие_опп</th>\n      <th>хбп</th>\n      <th>возраст</th>\n      <th>пол</th>\n      <th>гб</th>\n      <th>сахарный_диабет</th>\n      <th>стенокардия</th>\n      <th>инфаркт_миокарда</th>\n      <th>мерцательная_аритмия</th>\n      <th>желудочковая_экстрасистолия</th>\n      <th>...</th>\n      <th>количество_шунтов</th>\n      <th>длительность_операции</th>\n      <th>длительность_аик</th>\n      <th>время_пережатия_аорты</th>\n      <th>объем_кровопотерии</th>\n      <th>объем_гемотрансфузии</th>\n      <th>объем_инфузий</th>\n      <th>диурез</th>\n      <th>переливание_крови_и_аик</th>\n      <th>есть_хроническое_заболевание</th>\n    </tr>\n  </thead>\n  <tbody>\n    <tr>\n      <th>0</th>\n      <td>0</td>\n      <td>1</td>\n      <td>67</td>\n      <td>1</td>\n      <td>1</td>\n      <td>1</td>\n      <td>1</td>\n      <td>1</td>\n      <td>0</td>\n      <td>0</td>\n      <td>...</td>\n      <td>1</td>\n      <td>150</td>\n      <td>0</td>\n      <td>0</td>\n      <td>200</td>\n      <td>830</td>\n      <td>2900</td>\n      <td>900</td>\n      <td>0</td>\n      <td>1</td>\n    </tr>\n    <tr>\n      <th>3</th>\n      <td>0</td>\n      <td>1</td>\n      <td>62</td>\n      <td>1</td>\n      <td>1</td>\n      <td>0</td>\n      <td>1</td>\n      <td>1</td>\n      <td>1</td>\n      <td>0</td>\n      <td>...</td>\n      <td>3</td>\n      <td>210</td>\n      <td>71</td>\n      <td>43</td>\n      <td>500</td>\n      <td>1283</td>\n      <td>1700</td>\n      <td>1700</td>\n      <td>1</td>\n      <td>1</td>\n    </tr>\n    <tr>\n      <th>4</th>\n      <td>1</td>\n      <td>1</td>\n      <td>55</td>\n      <td>1</td>\n      <td>1</td>\n      <td>1</td>\n      <td>1</td>\n      <td>1</td>\n      <td>0</td>\n      <td>0</td>\n      <td>...</td>\n      <td>3</td>\n      <td>265</td>\n      <td>116</td>\n      <td>74</td>\n      <td>500</td>\n      <td>1560</td>\n      <td>1800</td>\n      <td>1300</td>\n      <td>0</td>\n      <td>1</td>\n    </tr>\n    <tr>\n      <th>5</th>\n      <td>0</td>\n      <td>0</td>\n      <td>60</td>\n      <td>1</td>\n      <td>1</td>\n      <td>0</td>\n      <td>1</td>\n      <td>1</td>\n      <td>0</td>\n      <td>1</td>\n      <td>...</td>\n      <td>3</td>\n      <td>240</td>\n      <td>74</td>\n      <td>62</td>\n      <td>200</td>\n      <td>1350</td>\n      <td>2100</td>\n      <td>1800</td>\n      <td>0</td>\n      <td>1</td>\n    </tr>\n    <tr>\n      <th>8</th>\n      <td>0</td>\n      <td>1</td>\n      <td>60</td>\n      <td>1</td>\n      <td>1</td>\n      <td>0</td>\n      <td>1</td>\n      <td>0</td>\n      <td>0</td>\n      <td>0</td>\n      <td>...</td>\n      <td>3</td>\n      <td>299</td>\n      <td>122</td>\n      <td>75</td>\n      <td>500</td>\n      <td>600</td>\n      <td>1050</td>\n      <td>4000</td>\n      <td>0</td>\n      <td>1</td>\n    </tr>\n    <tr>\n      <th>...</th>\n      <td>...</td>\n      <td>...</td>\n      <td>...</td>\n      <td>...</td>\n      <td>...</td>\n      <td>...</td>\n      <td>...</td>\n      <td>...</td>\n      <td>...</td>\n      <td>...</td>\n      <td>...</td>\n      <td>...</td>\n      <td>...</td>\n      <td>...</td>\n      <td>...</td>\n      <td>...</td>\n      <td>...</td>\n      <td>...</td>\n      <td>...</td>\n      <td>...</td>\n      <td>...</td>\n    </tr>\n    <tr>\n      <th>194</th>\n      <td>0</td>\n      <td>0</td>\n      <td>47</td>\n      <td>1</td>\n      <td>1</td>\n      <td>0</td>\n      <td>1</td>\n      <td>0</td>\n      <td>0</td>\n      <td>0</td>\n      <td>...</td>\n      <td>3</td>\n      <td>290</td>\n      <td>98</td>\n      <td>55</td>\n      <td>250</td>\n      <td>1094</td>\n      <td>1200</td>\n      <td>2000</td>\n      <td>0</td>\n      <td>1</td>\n    </tr>\n    <tr>\n      <th>196</th>\n      <td>1</td>\n      <td>1</td>\n      <td>68</td>\n      <td>1</td>\n      <td>1</td>\n      <td>0</td>\n      <td>1</td>\n      <td>0</td>\n      <td>1</td>\n      <td>0</td>\n      <td>...</td>\n      <td>2</td>\n      <td>220</td>\n      <td>0</td>\n      <td>0</td>\n      <td>150</td>\n      <td>0</td>\n      <td>1400</td>\n      <td>2000</td>\n      <td>0</td>\n      <td>1</td>\n    </tr>\n    <tr>\n      <th>197</th>\n      <td>1</td>\n      <td>1</td>\n      <td>72</td>\n      <td>1</td>\n      <td>1</td>\n      <td>0</td>\n      <td>1</td>\n      <td>1</td>\n      <td>0</td>\n      <td>0</td>\n      <td>...</td>\n      <td>4</td>\n      <td>270</td>\n      <td>88</td>\n      <td>70</td>\n      <td>500</td>\n      <td>1379</td>\n      <td>1300</td>\n      <td>2300</td>\n      <td>1</td>\n      <td>1</td>\n    </tr>\n    <tr>\n      <th>198</th>\n      <td>0</td>\n      <td>1</td>\n      <td>71</td>\n      <td>0</td>\n      <td>1</td>\n      <td>0</td>\n      <td>1</td>\n      <td>1</td>\n      <td>0</td>\n      <td>0</td>\n      <td>...</td>\n      <td>3</td>\n      <td>280</td>\n      <td>73</td>\n      <td>61</td>\n      <td>200</td>\n      <td>2360</td>\n      <td>900</td>\n      <td>2000</td>\n      <td>0</td>\n      <td>1</td>\n    </tr>\n    <tr>\n      <th>199</th>\n      <td>0</td>\n      <td>1</td>\n      <td>71</td>\n      <td>1</td>\n      <td>1</td>\n      <td>1</td>\n      <td>1</td>\n      <td>0</td>\n      <td>0</td>\n      <td>0</td>\n      <td>...</td>\n      <td>3</td>\n      <td>350</td>\n      <td>0</td>\n      <td>0</td>\n      <td>250</td>\n      <td>0</td>\n      <td>3400</td>\n      <td>1000</td>\n      <td>0</td>\n      <td>1</td>\n    </tr>\n  </tbody>\n</table>\n<p>157 rows × 69 columns</p>\n</div>"
     },
     "execution_count": 16,
     "metadata": {},
     "output_type": "execute_result"
    }
   ],
   "source": [
    "from preformatting_data import *\n",
    "import pandas as pd\n",
    "\n",
    "data = preformat(pd.read_csv('../medics_1.csv', delimiter=',', encoding='utf-8'))\n",
    "\n",
    "data\n"
   ]
  },
  {
   "cell_type": "code",
   "execution_count": 17,
   "outputs": [
    {
     "ename": "KeyError",
     "evalue": "'имт_кат'",
     "output_type": "error",
     "traceback": [
      "\u001B[1;31m---------------------------------------------------------------------------\u001B[0m",
      "\u001B[1;31mKeyError\u001B[0m                                  Traceback (most recent call last)",
      "File \u001B[1;32mC:\\Python\\Lib\\site-packages\\pandas\\core\\indexes\\base.py:3652\u001B[0m, in \u001B[0;36mIndex.get_loc\u001B[1;34m(self, key)\u001B[0m\n\u001B[0;32m   3651\u001B[0m \u001B[38;5;28;01mtry\u001B[39;00m:\n\u001B[1;32m-> 3652\u001B[0m     \u001B[38;5;28;01mreturn\u001B[39;00m \u001B[38;5;28;43mself\u001B[39;49m\u001B[38;5;241;43m.\u001B[39;49m\u001B[43m_engine\u001B[49m\u001B[38;5;241;43m.\u001B[39;49m\u001B[43mget_loc\u001B[49m\u001B[43m(\u001B[49m\u001B[43mcasted_key\u001B[49m\u001B[43m)\u001B[49m\n\u001B[0;32m   3653\u001B[0m \u001B[38;5;28;01mexcept\u001B[39;00m \u001B[38;5;167;01mKeyError\u001B[39;00m \u001B[38;5;28;01mas\u001B[39;00m err:\n",
      "File \u001B[1;32mC:\\Python\\Lib\\site-packages\\pandas\\_libs\\index.pyx:147\u001B[0m, in \u001B[0;36mpandas._libs.index.IndexEngine.get_loc\u001B[1;34m()\u001B[0m\n",
      "File \u001B[1;32mC:\\Python\\Lib\\site-packages\\pandas\\_libs\\index.pyx:176\u001B[0m, in \u001B[0;36mpandas._libs.index.IndexEngine.get_loc\u001B[1;34m()\u001B[0m\n",
      "File \u001B[1;32mpandas\\_libs\\hashtable_class_helper.pxi:7080\u001B[0m, in \u001B[0;36mpandas._libs.hashtable.PyObjectHashTable.get_item\u001B[1;34m()\u001B[0m\n",
      "File \u001B[1;32mpandas\\_libs\\hashtable_class_helper.pxi:7088\u001B[0m, in \u001B[0;36mpandas._libs.hashtable.PyObjectHashTable.get_item\u001B[1;34m()\u001B[0m\n",
      "\u001B[1;31mKeyError\u001B[0m: 'имт_кат'",
      "\nThe above exception was the direct cause of the following exception:\n",
      "\u001B[1;31mKeyError\u001B[0m                                  Traceback (most recent call last)",
      "Cell \u001B[1;32mIn[17], line 21\u001B[0m\n\u001B[0;32m     18\u001B[0m counts \u001B[38;5;241m=\u001B[39m {key: \u001B[38;5;241m0\u001B[39m \u001B[38;5;28;01mfor\u001B[39;00m key \u001B[38;5;129;01min\u001B[39;00m bmi_groups\u001B[38;5;241m.\u001B[39mvalues()}\n\u001B[0;32m     20\u001B[0m \u001B[38;5;28;01mfor\u001B[39;00m i, row \u001B[38;5;129;01min\u001B[39;00m data\u001B[38;5;241m.\u001B[39miterrows():\n\u001B[1;32m---> 21\u001B[0m     group \u001B[38;5;241m=\u001B[39m \u001B[43mrow\u001B[49m\u001B[43m[\u001B[49m\u001B[38;5;124;43m\"\u001B[39;49m\u001B[38;5;124;43mимт_кат\u001B[39;49m\u001B[38;5;124;43m\"\u001B[39;49m\u001B[43m]\u001B[49m\n\u001B[0;32m     23\u001B[0m     \u001B[38;5;28;01mif\u001B[39;00m \u001B[38;5;28many\u001B[39m(\u001B[38;5;28mmap\u001B[39m(\u001B[38;5;28;01mlambda\u001B[39;00m x: row[x], heart_problems)):\n\u001B[0;32m     24\u001B[0m         counts[bmi_groups[group]] \u001B[38;5;241m+\u001B[39m\u001B[38;5;241m=\u001B[39m \u001B[38;5;241m1\u001B[39m\n",
      "File \u001B[1;32mC:\\Python\\Lib\\site-packages\\pandas\\core\\series.py:1007\u001B[0m, in \u001B[0;36mSeries.__getitem__\u001B[1;34m(self, key)\u001B[0m\n\u001B[0;32m   1004\u001B[0m     \u001B[38;5;28;01mreturn\u001B[39;00m \u001B[38;5;28mself\u001B[39m\u001B[38;5;241m.\u001B[39m_values[key]\n\u001B[0;32m   1006\u001B[0m \u001B[38;5;28;01melif\u001B[39;00m key_is_scalar:\n\u001B[1;32m-> 1007\u001B[0m     \u001B[38;5;28;01mreturn\u001B[39;00m \u001B[38;5;28;43mself\u001B[39;49m\u001B[38;5;241;43m.\u001B[39;49m\u001B[43m_get_value\u001B[49m\u001B[43m(\u001B[49m\u001B[43mkey\u001B[49m\u001B[43m)\u001B[49m\n\u001B[0;32m   1009\u001B[0m \u001B[38;5;28;01mif\u001B[39;00m is_hashable(key):\n\u001B[0;32m   1010\u001B[0m     \u001B[38;5;66;03m# Otherwise index.get_value will raise InvalidIndexError\u001B[39;00m\n\u001B[0;32m   1011\u001B[0m     \u001B[38;5;28;01mtry\u001B[39;00m:\n\u001B[0;32m   1012\u001B[0m         \u001B[38;5;66;03m# For labels that don't resolve as scalars like tuples and frozensets\u001B[39;00m\n",
      "File \u001B[1;32mC:\\Python\\Lib\\site-packages\\pandas\\core\\series.py:1116\u001B[0m, in \u001B[0;36mSeries._get_value\u001B[1;34m(self, label, takeable)\u001B[0m\n\u001B[0;32m   1113\u001B[0m     \u001B[38;5;28;01mreturn\u001B[39;00m \u001B[38;5;28mself\u001B[39m\u001B[38;5;241m.\u001B[39m_values[label]\n\u001B[0;32m   1115\u001B[0m \u001B[38;5;66;03m# Similar to Index.get_value, but we do not fall back to positional\u001B[39;00m\n\u001B[1;32m-> 1116\u001B[0m loc \u001B[38;5;241m=\u001B[39m \u001B[38;5;28;43mself\u001B[39;49m\u001B[38;5;241;43m.\u001B[39;49m\u001B[43mindex\u001B[49m\u001B[38;5;241;43m.\u001B[39;49m\u001B[43mget_loc\u001B[49m\u001B[43m(\u001B[49m\u001B[43mlabel\u001B[49m\u001B[43m)\u001B[49m\n\u001B[0;32m   1118\u001B[0m \u001B[38;5;28;01mif\u001B[39;00m is_integer(loc):\n\u001B[0;32m   1119\u001B[0m     \u001B[38;5;28;01mreturn\u001B[39;00m \u001B[38;5;28mself\u001B[39m\u001B[38;5;241m.\u001B[39m_values[loc]\n",
      "File \u001B[1;32mC:\\Python\\Lib\\site-packages\\pandas\\core\\indexes\\base.py:3654\u001B[0m, in \u001B[0;36mIndex.get_loc\u001B[1;34m(self, key)\u001B[0m\n\u001B[0;32m   3652\u001B[0m     \u001B[38;5;28;01mreturn\u001B[39;00m \u001B[38;5;28mself\u001B[39m\u001B[38;5;241m.\u001B[39m_engine\u001B[38;5;241m.\u001B[39mget_loc(casted_key)\n\u001B[0;32m   3653\u001B[0m \u001B[38;5;28;01mexcept\u001B[39;00m \u001B[38;5;167;01mKeyError\u001B[39;00m \u001B[38;5;28;01mas\u001B[39;00m err:\n\u001B[1;32m-> 3654\u001B[0m     \u001B[38;5;28;01mraise\u001B[39;00m \u001B[38;5;167;01mKeyError\u001B[39;00m(key) \u001B[38;5;28;01mfrom\u001B[39;00m \u001B[38;5;21;01merr\u001B[39;00m\n\u001B[0;32m   3655\u001B[0m \u001B[38;5;28;01mexcept\u001B[39;00m \u001B[38;5;167;01mTypeError\u001B[39;00m:\n\u001B[0;32m   3656\u001B[0m     \u001B[38;5;66;03m# If we have a listlike key, _check_indexing_error will raise\u001B[39;00m\n\u001B[0;32m   3657\u001B[0m     \u001B[38;5;66;03m#  InvalidIndexError. Otherwise we fall through and re-raise\u001B[39;00m\n\u001B[0;32m   3658\u001B[0m     \u001B[38;5;66;03m#  the TypeError.\u001B[39;00m\n\u001B[0;32m   3659\u001B[0m     \u001B[38;5;28mself\u001B[39m\u001B[38;5;241m.\u001B[39m_check_indexing_error(key)\n",
      "\u001B[1;31mKeyError\u001B[0m: 'имт_кат'"
     ]
    }
   ],
   "source": [
    "# Данные проблемы выбраны т.к. ожирение является предрасполагающим фактором для них\n",
    "heart_problems = [\n",
    "    \"гб\",\n",
    "    \"стенокардия\",\n",
    "    \"инфаркт_миокарда\",\n",
    "]\n",
    "\n",
    "bmi_groups = {\n",
    "    0: \"Выраженный дефицит массы тела\",\n",
    "    1: \"Недостаточная масса тела\",\n",
    "    2: \"Норма\",\n",
    "    3: \"Избыточная масса тела\",\n",
    "    4: \"Ожирение 1 степени\",\n",
    "    5: \"Ожирение 2 степени\",\n",
    "    6: \"Ожирение 3 степени\"\n",
    "}\n",
    "\n",
    "counts = {key: 0 for key in bmi_groups.values()}\n",
    "\n",
    "for i, row in data.iterrows():\n",
    "    group = row[\"имт_кат\"]\n",
    "\n",
    "    if any(map(lambda x: row[x], heart_problems)):\n",
    "        counts[bmi_groups[group]] += 1\n",
    "\n",
    "print(counts)"
   ],
   "metadata": {
    "collapsed": false
   }
  },
  {
   "cell_type": "markdown",
   "source": [
    "{'Выраженный дефицит массы тела': 0, 'Недостаточная масса тела': 0, 'Норма': 15, 'Избыточная масса тела': 86, 'Ожирение 1 степени': 46, 'Ожирение 2 степени': 7, 'Ожирение 3 степени': 3}"
   ],
   "metadata": {
    "collapsed": false
   }
  },
  {
   "cell_type": "markdown",
   "source": [
    "Подсчёты показывают, что люди с ИМТ выше нормы более подвержены проблемам с сердцем"
   ],
   "metadata": {
    "collapsed": false
   }
  }
 ],
 "metadata": {
  "kernelspec": {
   "display_name": "Python 3",
   "language": "python",
   "name": "python3"
  },
  "language_info": {
   "codemirror_mode": {
    "name": "ipython",
    "version": 2
   },
   "file_extension": ".py",
   "mimetype": "text/x-python",
   "name": "python",
   "nbconvert_exporter": "python",
   "pygments_lexer": "ipython2",
   "version": "2.7.6"
  }
 },
 "nbformat": 4,
 "nbformat_minor": 0
}
