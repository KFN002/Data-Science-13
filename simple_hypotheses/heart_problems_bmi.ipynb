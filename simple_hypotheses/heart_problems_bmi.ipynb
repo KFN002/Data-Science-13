{
 "cells": [
  {
   "cell_type": "code",
   "execution_count": 1,
   "metadata": {
    "collapsed": true
   },
   "outputs": [],
   "source": [
    "from utils.preformatting_data import *\n",
    "import pandas as pd\n",
    "\n",
    "data = preformat(pd.read_csv('../medics_1.csv', delimiter=',', encoding='utf-8'))"
   ]
  },
  {
   "cell_type": "code",
   "execution_count": 2,
   "outputs": [
    {
     "data": {
      "text/plain": "{'Выраженный дефицит массы тела': 0,\n 'Недостаточная масса тела': 0,\n 'Норма': 15,\n 'Избыточная масса тела': 86,\n 'Ожирение 1 степени': 46,\n 'Ожирение 2 степени': 7,\n 'Ожирение 3 степени': 3}"
     },
     "execution_count": 2,
     "metadata": {},
     "output_type": "execute_result"
    }
   ],
   "source": [
    "# Данные проблемы выбраны т.к. ожирение является предрасполагающим фактором для них\n",
    "heart_problems = [\n",
    "    \"гб\",\n",
    "    \"стенокардия\",\n",
    "    \"инфаркт_миокарда\",\n",
    "]\n",
    "\n",
    "bmi_groups = {\n",
    "    0: \"Выраженный дефицит массы тела\",\n",
    "    1: \"Недостаточная масса тела\",\n",
    "    2: \"Норма\",\n",
    "    3: \"Избыточная масса тела\",\n",
    "    4: \"Ожирение 1 степени\",\n",
    "    5: \"Ожирение 2 степени\",\n",
    "    6: \"Ожирение 3 степени\"\n",
    "}\n",
    "\n",
    "counts = {key: 0 for key in bmi_groups.values()}\n",
    "\n",
    "for i, row in data.iterrows():\n",
    "    group = row[\"имт_кат\"]\n",
    "    if any(map(lambda x: row[x], heart_problems)):\n",
    "        counts[group] += 1\n",
    "\n",
    "counts"
   ],
   "metadata": {
    "collapsed": false
   }
  },
  {
   "cell_type": "markdown",
   "source": [
    "{'Выраженный дефицит массы тела': 0, 'Недостаточная масса тела': 0, 'Норма': 15, 'Избыточная масса тела': 86, 'Ожирение 1 степени': 46, 'Ожирение 2 степени': 7, 'Ожирение 3 степени': 3}"
   ],
   "metadata": {
    "collapsed": false
   }
  },
  {
   "cell_type": "markdown",
   "source": [
    "Подсчёты показывают, что люди с ИМТ выше нормы более подвержены проблемам с сердцем"
   ],
   "metadata": {
    "collapsed": false
   }
  }
 ],
 "metadata": {
  "kernelspec": {
   "display_name": "Python 3",
   "language": "python",
   "name": "python3"
  },
  "language_info": {
   "codemirror_mode": {
    "name": "ipython",
    "version": 2
   },
   "file_extension": ".py",
   "mimetype": "text/x-python",
   "name": "python",
   "nbconvert_exporter": "python",
   "pygments_lexer": "ipython2",
   "version": "2.7.6"
  }
 },
 "nbformat": 4,
 "nbformat_minor": 0
}
