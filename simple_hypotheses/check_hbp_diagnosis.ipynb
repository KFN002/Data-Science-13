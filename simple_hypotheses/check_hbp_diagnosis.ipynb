{
 "cells": [
  {
   "cell_type": "markdown",
   "source": [
    "## Процент пациентов с хроническими заболеваниями для групп \"есть ОПП/нет ОПП"
   ],
   "metadata": {
    "collapsed": false
   }
  },
  {
   "cell_type": "code",
   "execution_count": 12,
   "metadata": {
    "collapsed": true
   },
   "outputs": [],
   "source": [
    "import pandas as pd\n",
    "\n",
    "\n",
    "def calc_chronic_ratio(df: pd.DataFrame):\n",
    "    df = df.copy()\n",
    "\n",
    "    # полные группы \"есть ОПП/нет ОПП\"\n",
    "    group_1_all = df[(df[\"развитие_опп\"] == 1)]\n",
    "    group_2_all = df[(df[\"развитие_опп\"] == 0)]\n",
    "\n",
    "    # группы \"есть ОПП/нет ОПП\" и есть хроническое заболевание\n",
    "    group_1_chronic = df[(df[\"развитие_опп\"] == 1) & (df[\"есть_хроническое_заболевание\"] == 1)]\n",
    "    group_2_chronic = df[(df[\"развитие_опп\"] == 0) & (df[\"есть_хроническое_заболевание\"] == 1)]\n",
    "\n",
    "    # размерность полных групп\n",
    "    count_1_all = group_1_all.shape[0]\n",
    "    count_2_all = group_2_all.shape[0]\n",
    "\n",
    "    # размерность группы с хроническим заболеванием\n",
    "    count_1_chronic = group_1_chronic.shape[0]\n",
    "    count_2_chronic = group_2_chronic.shape[0]\n",
    "\n",
    "    # подсчёт процентов внутри групп\n",
    "    percent_1 = count_1_chronic / count_1_all * 100\n",
    "    percent_2 = count_2_chronic / count_2_all * 100\n",
    "\n",
    "    print(round(percent_1, 2), round(percent_2, 2))  # 96.97 98.28\n",
    "\n",
    "def check_hbp_diagnosis(data: pd.DataFrame):\n",
    "    for index, row in data.iterrows():\n",
    "        hbp = row[\"хбп\"]\n",
    "        skf = row[\"скф_расч\"]\n",
    "        if skf > 90:\n",
    "            if hbp != 0:\n",
    "                return False\n",
    "        if 60 <= skf < 90:\n",
    "            if data[\"хбп\"][index] != 1:\n",
    "                return False\n",
    "        if 30 <= skf < 60:\n",
    "            if data[\"хбп\"][index] != 3:\n",
    "                return False\n",
    "    return True\n"
   ]
  },
  {
   "cell_type": "code",
   "execution_count": 13,
   "outputs": [],
   "source": [
    "import pandas as pd\n",
    "from utils.preformatting_data import *\n",
    "\n",
    "data = preformat(pd.read_csv('../medics_1.csv', delimiter=',', encoding='utf-8'))"
   ],
   "metadata": {
    "collapsed": false
   }
  },
  {
   "cell_type": "code",
   "execution_count": 14,
   "outputs": [
    {
     "name": "stdout",
     "output_type": "stream",
     "text": [
      "96.97 98.28\n"
     ]
    }
   ],
   "source": [
    "calc_chronic_ratio(data)"
   ],
   "metadata": {
    "collapsed": false
   }
  },
  {
   "cell_type": "code",
   "execution_count": 15,
   "outputs": [
    {
     "name": "stdout",
     "output_type": "stream",
     "text": [
      "False\n"
     ]
    }
   ],
   "source": [
    "print(check_hbp_diagnosis(data))"
   ],
   "metadata": {
    "collapsed": false
   }
  },
  {
   "cell_type": "markdown",
   "source": [
    "Процент для групп с хроническими заболеваниями: Есть опп - 96.97, Нет опп - 98.28"
   ],
   "metadata": {
    "collapsed": false
   }
  },
  {
   "cell_type": "markdown",
   "source": [
    "Некоторые диагнозы были поставлены неправильно"
   ],
   "metadata": {
    "collapsed": false
   }
  }
 ],
 "metadata": {
  "kernelspec": {
   "display_name": "Python 3",
   "language": "python",
   "name": "python3"
  },
  "language_info": {
   "codemirror_mode": {
    "name": "ipython",
    "version": 2
   },
   "file_extension": ".py",
   "mimetype": "text/x-python",
   "name": "python",
   "nbconvert_exporter": "python",
   "pygments_lexer": "ipython2",
   "version": "2.7.6"
  }
 },
 "nbformat": 4,
 "nbformat_minor": 0
}
