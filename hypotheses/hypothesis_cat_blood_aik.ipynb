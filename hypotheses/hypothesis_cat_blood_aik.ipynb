{
 "cells": [
  {
   "cell_type": "markdown",
   "source": [
    "## H0: Между группами с опп и без него нет разницы в аик и переливании крови"
   ],
   "metadata": {
    "collapsed": false
   }
  },
  {
   "cell_type": "code",
   "execution_count": 1,
   "metadata": {
    "collapsed": true
   },
   "outputs": [],
   "source": [
    "import pandas as pd\n",
    "from scipy.stats import chi2_contingency\n",
    "from utils.preformatting_data import preformat\n",
    "\n",
    "data = preformat(pd.read_csv('../medics_1.csv', delimiter=',', encoding='utf-8'))\n",
    "\n",
    "data[\"развитие_опп\"] = data[\"развитие_опп\"].apply(lambda x: 'да' if x == 1 else 'нет')"
   ]
  },
  {
   "cell_type": "code",
   "execution_count": 2,
   "outputs": [
    {
     "name": "stdout",
     "output_type": "stream",
     "text": [
      "Chi2: 0.0519\n",
      "P-value: 0.8197\n"
     ]
    }
   ],
   "source": [
    "# подсчет метрик\n",
    "contingency_table = pd.crosstab(data[\"развитие_опп\"], data['переливание_крови_и_аик'])\n",
    "chi2, p_value, _, _ = chi2_contingency(contingency_table)\n",
    "\n",
    "# выводим метрики\n",
    "print(f'Chi2: {round(chi2, 4)}')\n",
    "print(f'P-value: {round(p_value, 4)}')"
   ],
   "metadata": {
    "collapsed": false
   }
  },
  {
   "cell_type": "markdown",
   "source": [
    "Не получилось отвергнуть нулевую гипотезу, различия между группами не существенны."
   ],
   "metadata": {
    "collapsed": false
   }
  }
 ],
 "metadata": {
  "kernelspec": {
   "display_name": "Python 3",
   "language": "python",
   "name": "python3"
  },
  "language_info": {
   "codemirror_mode": {
    "name": "ipython",
    "version": 2
   },
   "file_extension": ".py",
   "mimetype": "text/x-python",
   "name": "python",
   "nbconvert_exporter": "python",
   "pygments_lexer": "ipython2",
   "version": "2.7.6"
  }
 },
 "nbformat": 4,
 "nbformat_minor": 0
}
