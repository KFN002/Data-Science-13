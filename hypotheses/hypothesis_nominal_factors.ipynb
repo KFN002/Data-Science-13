{
 "cells": [
  {
   "cell_type": "markdown",
   "source": [
    "## H0: Между группами с опп и без него нет разницы в соответствующем номинальном факторе нет"
   ],
   "metadata": {
    "collapsed": false
   }
  },
  {
   "cell_type": "code",
   "execution_count": 1,
   "metadata": {
    "collapsed": true
   },
   "outputs": [],
   "source": [
    "import pandas as pd\n",
    "from scipy.stats import chi2_contingency\n",
    "from utils.preformatting_data import preformat\n",
    "\n",
    "data = preformat(pd.read_csv('../medics_1.csv', delimiter=',', encoding='utf-8'))\n",
    "\n",
    "data[\"развитие_опп\"] = data[\"развитие_опп\"].apply(lambda x: 'да' if x == 1 else 'нет')"
   ]
  },
  {
   "cell_type": "code",
   "execution_count": 2,
   "outputs": [
    {
     "name": "stdout",
     "output_type": "stream",
     "text": [
      "Chi2: 2.0215\n",
      "P-value: 0.7318\n",
      "Не получилось отвергнуть нулевую гипотезу, различия между группами в наличии повышенного имт не существенны.\n",
      "-------------------------------\n",
      "Chi2: 1.7872\n",
      "P-value: 0.4092\n",
      "Не получилось отвергнуть нулевую гипотезу, различия между группами в наличии хбп не существенны.\n",
      "-------------------------------\n",
      "Chi2: 0.9411\n",
      "P-value: 0.332\n",
      "Не получилось отвергнуть нулевую гипотезу, различия между группами в наличии гб не существенны.\n",
      "-------------------------------\n",
      "Chi2: 0.9067\n",
      "P-value: 0.341\n",
      "Не получилось отвергнуть нулевую гипотезу, различия между группами в наличии сахарный_диабет не существенны.\n",
      "-------------------------------\n",
      "Chi2: 0.0519\n",
      "P-value: 0.8197\n",
      "Не получилось отвергнуть нулевую гипотезу, различия между группами в наличии переливание_крови_и_аик не существенны.\n",
      "-------------------------------\n",
      "Chi2: 0.0\n",
      "P-value: 1.0\n",
      "Не получилось отвергнуть нулевую гипотезу, различия между группами в наличии есть_хроническое_заболевание не существенны.\n",
      "-------------------------------\n"
     ]
    }
   ],
   "source": [
    "\n",
    "# подсчет метрик\n",
    "for factor in [\"имт_кат\", \"хбп\", \"гб\", \"сахарный_диабет\", \"переливание_крови_и_аик\", \"есть_хроническое_заболевание\"]:\n",
    "\n",
    "    contingency_table = pd.crosstab(data[\"развитие_опп\"], data[factor])\n",
    "    chi2, p_value, _, _ = chi2_contingency(contingency_table)\n",
    "\n",
    "    # выводим метрики\n",
    "    print(f'Chi2: {round(chi2, 4)}')\n",
    "    print(f'P-value: {round(p_value, 4)}')\n",
    "\n",
    "    if factor == 'имт_кат':\n",
    "        factor = 'повышенного имт'\n",
    "    if p_value < 0.05:\n",
    "        print(f\"Отвергаем нулевую гипотезу, различия между группами существуют в наличии {factor}.\")\n",
    "    else:\n",
    "        print(f\"Не получилось отвергнуть нулевую гипотезу, различия между группами в наличии {factor} не существенны.\")\n",
    "    print('-------------------------------')\n"
   ],
   "metadata": {
    "collapsed": false
   }
  },
  {
   "cell_type": "markdown",
   "source": [
    "Итоги:\n",
    "Никакую гипотезу не удалось подтвердить"
   ],
   "metadata": {
    "collapsed": false
   }
  }
 ],
 "metadata": {
  "kernelspec": {
   "display_name": "Python 3",
   "language": "python",
   "name": "python3"
  },
  "language_info": {
   "codemirror_mode": {
    "name": "ipython",
    "version": 2
   },
   "file_extension": ".py",
   "mimetype": "text/x-python",
   "name": "python",
   "nbconvert_exporter": "python",
   "pygments_lexer": "ipython2",
   "version": "2.7.6"
  }
 },
 "nbformat": 4,
 "nbformat_minor": 0
}
