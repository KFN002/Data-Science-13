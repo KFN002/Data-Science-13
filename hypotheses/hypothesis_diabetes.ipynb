{
 "cells": [
  {
   "cell_type": "markdown",
   "source": [
    "H0: Между группами с сахарным диабетом и без нет разницы в гб, хбп, имт_кат, аик"
   ],
   "metadata": {
    "collapsed": false
   }
  },
  {
   "cell_type": "code",
   "execution_count": 4,
   "metadata": {
    "collapsed": true
   },
   "outputs": [],
   "source": [
    "from utils.preformatting_data import *\n",
    "import pandas as pd\n",
    "\n",
    "data = preformat(pd.read_csv('../medics_1.csv', delimiter=',', encoding='utf-8'))\n",
    "\n",
    "dd = data.copy()\n",
    "\n",
    "group = \"развитие_опп\"\n",
    "nominal_columns = [\"сахарный_диабет\", \"гб\", \"хбп\", \"имт_кат\", \"аик\"]"
   ]
  },
  {
   "cell_type": "code",
   "execution_count": 5,
   "outputs": [],
   "source": [
    "res = []\n",
    "\n",
    "for col in nominal_columns:\n",
    "    cross_matrix = pd.crosstab(dd[group], dd[col])\n",
    "    chi2 = chi2_contingency(cross_matrix)\n",
    "    res.append([col, cramers_v(cross_matrix), chi2.pvalue])"
   ],
   "metadata": {
    "collapsed": false
   }
  },
  {
   "cell_type": "code",
   "execution_count": 6,
   "outputs": [
    {
     "name": "stdout",
     "output_type": "stream",
     "text": [
      "P-уровень и корреляция развитие_опп - номинальные факторы\n",
      "['показатель', 'корреляция крамера', 'p-уровень']\n",
      "['сахарный_диабет', 0.07599266042636973, 0.34100301177631626]\n",
      "['гб', 0.07742223016060598, 0.3319977637615539]\n",
      "['хбп', 0.10669415928160372, 0.4091734930287396]\n",
      "['имт_кат', 0.11347140762304168, 0.7318052887812969]\n",
      "['аик', 0.09476380262411753, 0.23507498822727507]\n"
     ]
    }
   ],
   "source": [
    "print(\"P-уровень и корреляция развитие_опп - номинальные факторы\")\n",
    "print([\"показатель\", \"корреляция крамера\", \"p-уровень\"])\n",
    "print(*res, sep=\"\\n\")"
   ],
   "metadata": {
    "collapsed": false
   }
  },
  {
   "cell_type": "markdown",
   "source": [
    "Связи не были доказаны"
   ],
   "metadata": {
    "collapsed": false
   }
  }
 ],
 "metadata": {
  "kernelspec": {
   "display_name": "Python 3",
   "language": "python",
   "name": "python3"
  },
  "language_info": {
   "codemirror_mode": {
    "name": "ipython",
    "version": 2
   },
   "file_extension": ".py",
   "mimetype": "text/x-python",
   "name": "python",
   "nbconvert_exporter": "python",
   "pygments_lexer": "ipython2",
   "version": "2.7.6"
  }
 },
 "nbformat": 4,
 "nbformat_minor": 0
}
