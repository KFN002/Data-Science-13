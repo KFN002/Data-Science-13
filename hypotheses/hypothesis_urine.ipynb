{
 "cells": [
  {
   "cell_type": "markdown",
   "source": [
    "## H0: Между группами с опп и без него нет разницы в мочевине"
   ],
   "metadata": {
    "collapsed": false
   }
  },
  {
   "cell_type": "code",
   "execution_count": 1,
   "metadata": {
    "collapsed": true
   },
   "outputs": [],
   "source": [
    "import pandas as pd\n",
    "from scipy.stats import ttest_ind, shapiro, mannwhitneyu\n",
    "from utils.preformatting_data import preformat\n",
    "\n",
    "data = preformat(pd.read_csv('../medics_1.csv', delimiter=',', encoding='utf-8'))\n",
    "\n",
    "# разделение групп на опп и без него\n",
    "with_opp = data[data['развитие_опп'] == 1]\n",
    "without_opp = data[data['развитие_опп'] == 0]"
   ]
  },
  {
   "cell_type": "code",
   "execution_count": 2,
   "outputs": [],
   "source": [
    "# подсчет метрик в зависимости от распределения\n",
    "if shapiro(with_opp[\"мочевина\"])[1] >= 0.05 and shapiro(without_opp[\"мочевина\"])[1] >= 0.05:\n",
    "    _, p_value = ttest_ind(with_opp['мочевина'], without_opp['мочевина'], equal_var=False)\n",
    "else:\n",
    "    _, p_value = mannwhitneyu(with_opp['мочевина'], without_opp['мочевина'])"
   ],
   "metadata": {
    "collapsed": false
   }
  },
  {
   "cell_type": "code",
   "execution_count": 3,
   "outputs": [
    {
     "name": "stdout",
     "output_type": "stream",
     "text": [
      "P-value: 0.8642\n",
      "------------------------\n",
      "Не получилось отвергнуть нулевую гипотезу, различия между группами не существенны.\n"
     ]
    }
   ],
   "source": [
    "# выводим метрики\n",
    "print(f'P-value: {round(p_value, 4)}')"
   ],
   "metadata": {
    "collapsed": false
   }
  },
  {
   "cell_type": "markdown",
   "source": [
    "Не получилось отвергнуть нулевую гипотезу, различия между группами не существенны."
   ],
   "metadata": {
    "collapsed": false
   }
  }
 ],
 "metadata": {
  "kernelspec": {
   "display_name": "Python 3",
   "language": "python",
   "name": "python3"
  },
  "language_info": {
   "codemirror_mode": {
    "name": "ipython",
    "version": 2
   },
   "file_extension": ".py",
   "mimetype": "text/x-python",
   "name": "python",
   "nbconvert_exporter": "python",
   "pygments_lexer": "ipython2",
   "version": "2.7.6"
  }
 },
 "nbformat": 4,
 "nbformat_minor": 0
}
